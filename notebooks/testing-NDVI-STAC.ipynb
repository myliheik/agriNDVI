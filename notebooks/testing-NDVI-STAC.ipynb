{
 "cells": [
  {
   "cell_type": "code",
   "execution_count": 1,
   "id": "6348cfca",
   "metadata": {},
   "outputs": [],
   "source": [
    "\"\"\"\n",
    "2025-02-10 MY\n",
    "Query PAITULI STAC to find out NDVI mosaics.\n",
    "\n",
    "NDVI Time-Series from Sentinel-2 Imagery Using STAC\n",
    "\n",
    "\"\"\"\n",
    "\n",
    "import stackstac\n",
    "from dask.distributed import Client, Lock\n",
    "import pystac_client\n",
    "import pyproj\n",
    "import geopandas as gpd\n",
    "import json\n",
    "import requests\n",
    "import os\n",
    "import rioxarray\n",
    "import re\n",
    "import pandas as pd"
   ]
  },
  {
   "cell_type": "code",
   "execution_count": 3,
   "id": "a44bc489",
   "metadata": {},
   "outputs": [],
   "source": [
    "def change_to_https(request: requests.Request) -> requests.Request: \n",
    "    request.url = request.url.replace(\"http:\", \"https:\")\n",
    "    return request\n",
    "\n",
    "\n",
    "no_of_workers = len(os.sched_getaffinity(0))\n",
    "client = Client(n_workers=no_of_workers)"
   ]
  },
  {
   "cell_type": "code",
   "execution_count": 11,
   "id": "653dce88",
   "metadata": {},
   "outputs": [],
   "source": [
    "URL = \"https://paituli.csc.fi/geoserver/ogc/stac/v1\"\n",
    "catalog = pystac_client.Client.open(URL, request_modifier=change_to_https)\n",
    "#catalog"
   ]
  },
  {
   "cell_type": "code",
   "execution_count": 5,
   "id": "d9df5e0a",
   "metadata": {},
   "outputs": [
    {
     "name": "stdout",
     "output_type": "stream",
     "text": [
      "Title: Paituli STAC\n",
      "Description: Paituli STAC with Finnish data. More info: https://paituli.csc.fi/stac.html\n"
     ]
    }
   ],
   "source": [
    "print(f\"Title: {catalog.title or 'N/A'}\")\n",
    "print(f\"Description: {catalog.description or 'N/A'}\")"
   ]
  },
  {
   "cell_type": "code",
   "execution_count": 13,
   "id": "10643148",
   "metadata": {},
   "outputs": [
    {
     "name": "stdout",
     "output_type": "stream",
     "text": [
      "sentinel_2_nir_b08_at_geocubes\n",
      "sentinel_2_satellite_image_mosaic_at_geocubes\n",
      "sentinel_2_swir_b11_at_geocubes\n",
      "sentinel_2_11_days_mosaics_at_fmi\n",
      "sentinel_1_daily_mosaics_at_fmi\n",
      "sentinel_1_global_backscatter_at_geocubes\n",
      "sentinel_2_annual_mosaics_at_fmi\n",
      "sentinel_2_monthly_index_mosaics_at_fmi\n",
      "sentinel_1_tiles_at_fmi\n",
      "sentinel_1_11_days_mosaics_at_fmi\n"
     ]
    }
   ],
   "source": [
    "for collection in catalog.get_collections():\n",
    "    #print(collection.id)\n",
    "    if re.findall(r\"(sentinel)[\\._]\", collection.id):\n",
    "        print(collection.id)"
   ]
  },
  {
   "cell_type": "code",
   "execution_count": 16,
   "id": "3f36d062",
   "metadata": {},
   "outputs": [],
   "source": [
    "collection = catalog.get_collection('sentinel2-l2a')\n",
    "#collection"
   ]
  },
  {
   "cell_type": "code",
   "execution_count": 17,
   "id": "167e2704",
   "metadata": {},
   "outputs": [
    {
     "name": "stdout",
     "output_type": "stream",
     "text": [
      "Found items: 458\n",
      "CPU times: user 21.8 ms, sys: 2 ms, total: 23.8 ms\n",
      "Wall time: 356 ms\n"
     ]
    }
   ],
   "source": [
    "%%time\n",
    "AOI = [20.0, 59.3, 25.4, 61.3]\n",
    "\n",
    "search_bbox = catalog.search(\n",
    "    bbox=AOI,\n",
    "    collections=[\"sentinel2-l2a\"],\n",
    "    datetime=\"2021-07-01/2021-08-15\"\n",
    ")\n",
    "print('Found items: ' \"{}\".format(search_bbox.matched()))"
   ]
  },
  {
   "cell_type": "code",
   "execution_count": null,
   "id": "578040e7",
   "metadata": {},
   "outputs": [],
   "source": []
  }
 ],
 "metadata": {
  "kernelspec": {
   "display_name": "Python 3 (ipykernel)",
   "language": "python",
   "name": "python3"
  },
  "language_info": {
   "codemirror_mode": {
    "name": "ipython",
    "version": 3
   },
   "file_extension": ".py",
   "mimetype": "text/x-python",
   "name": "python",
   "nbconvert_exporter": "python",
   "pygments_lexer": "ipython3",
   "version": "3.10.9"
  }
 },
 "nbformat": 4,
 "nbformat_minor": 5
}
